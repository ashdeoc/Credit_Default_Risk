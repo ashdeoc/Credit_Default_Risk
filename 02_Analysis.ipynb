{
 "cells": [
  {
   "cell_type": "code",
   "execution_count": 1,
   "id": "b01178de",
   "metadata": {},
   "outputs": [],
   "source": [
    "import numpy as np\n",
    "import pandas as pd\n",
    "import matplotlib\n",
    "import matplotlib.pyplot as plt # for plotting\n",
    "import seaborn as sns"
   ]
  },
  {
   "cell_type": "code",
   "execution_count": 2,
   "id": "d6307076",
   "metadata": {},
   "outputs": [],
   "source": [
    "# Loading the dataset after being downloaded from kaggle\n",
    "application_train = pd.read_csv('application_train.csv')\n",
    "bureau = pd.read_csv('bureau.csv')\n"
   ]
  },
  {
   "cell_type": "code",
   "execution_count": 3,
   "id": "17b388ea",
   "metadata": {},
   "outputs": [
    {
     "name": "stdout",
     "output_type": "stream",
     "text": [
      "The application_train data has : 307511 row with 122 features\n",
      "The bureau data has : 1716428 row with 17 features\n"
     ]
    }
   ],
   "source": [
    "# Shape of the Data Set\n",
    "print('The application_train data has : %d row with %d features' %(application_train.shape[0],application_train.shape[1]))\n",
    "print('The bureau data has : %d row with %d features' %(bureau.shape[0],bureau.shape[1]))\n"
   ]
  },
  {
   "cell_type": "code",
   "execution_count": 4,
   "id": "0eb9f6b0",
   "metadata": {},
   "outputs": [
    {
     "name": "stdout",
     "output_type": "stream",
     "text": [
      "   SK_ID_CURR\n",
      "0      100002\n",
      "   SK_ID_CURR\n",
      "0      215354\n"
     ]
    }
   ],
   "source": [
    "# Check to confirm the tables in the Dataset have the same key column?\n",
    "\n",
    "print(application_train.iloc[0:1,0:1])\n",
    "print(bureau.iloc[0:1,0:1])\n"
   ]
  },
  {
   "cell_type": "code",
   "execution_count": 5,
   "id": "fcb62a5d",
   "metadata": {},
   "outputs": [
    {
     "name": "stdout",
     "output_type": "stream",
     "text": [
      "float64    65\n",
      "int64      41\n",
      "object     16\n",
      "dtype: int64\n",
      "float64    8\n",
      "int64      6\n",
      "object     3\n",
      "dtype: int64\n"
     ]
    }
   ],
   "source": [
    "print(application_train.dtypes.value_counts())\n",
    "print(bureau.dtypes.value_counts())\n"
   ]
  },
  {
   "cell_type": "code",
   "execution_count": 6,
   "id": "45776914",
   "metadata": {
    "scrolled": true
   },
   "outputs": [
    {
     "name": "stdout",
     "output_type": "stream",
     "text": [
      "Column Names :  ['SK_ID_CURR' 'TARGET' 'NAME_CONTRACT_TYPE' 'CODE_GENDER' 'FLAG_OWN_CAR'\n",
      " 'FLAG_OWN_REALTY' 'CNT_CHILDREN' 'AMT_INCOME_TOTAL' 'AMT_CREDIT'\n",
      " 'AMT_ANNUITY' 'AMT_GOODS_PRICE' 'NAME_TYPE_SUITE' 'NAME_INCOME_TYPE'\n",
      " 'NAME_EDUCATION_TYPE' 'NAME_FAMILY_STATUS' 'NAME_HOUSING_TYPE'\n",
      " 'REGION_POPULATION_RELATIVE' 'DAYS_BIRTH' 'DAYS_EMPLOYED'\n",
      " 'DAYS_REGISTRATION' 'DAYS_ID_PUBLISH' 'OWN_CAR_AGE' 'FLAG_MOBIL'\n",
      " 'FLAG_EMP_PHONE' 'FLAG_WORK_PHONE' 'FLAG_CONT_MOBILE' 'FLAG_PHONE'\n",
      " 'FLAG_EMAIL' 'OCCUPATION_TYPE' 'CNT_FAM_MEMBERS' 'REGION_RATING_CLIENT'\n",
      " 'REGION_RATING_CLIENT_W_CITY' 'WEEKDAY_APPR_PROCESS_START'\n",
      " 'HOUR_APPR_PROCESS_START' 'REG_REGION_NOT_LIVE_REGION'\n",
      " 'REG_REGION_NOT_WORK_REGION' 'LIVE_REGION_NOT_WORK_REGION'\n",
      " 'REG_CITY_NOT_LIVE_CITY' 'REG_CITY_NOT_WORK_CITY'\n",
      " 'LIVE_CITY_NOT_WORK_CITY' 'ORGANIZATION_TYPE' 'EXT_SOURCE_1'\n",
      " 'EXT_SOURCE_2' 'EXT_SOURCE_3' 'APARTMENTS_AVG' 'BASEMENTAREA_AVG'\n",
      " 'YEARS_BEGINEXPLUATATION_AVG' 'YEARS_BUILD_AVG' 'COMMONAREA_AVG'\n",
      " 'ELEVATORS_AVG' 'ENTRANCES_AVG' 'FLOORSMAX_AVG' 'FLOORSMIN_AVG'\n",
      " 'LANDAREA_AVG' 'LIVINGAPARTMENTS_AVG' 'LIVINGAREA_AVG'\n",
      " 'NONLIVINGAPARTMENTS_AVG' 'NONLIVINGAREA_AVG' 'APARTMENTS_MODE'\n",
      " 'BASEMENTAREA_MODE' 'YEARS_BEGINEXPLUATATION_MODE' 'YEARS_BUILD_MODE'\n",
      " 'COMMONAREA_MODE' 'ELEVATORS_MODE' 'ENTRANCES_MODE' 'FLOORSMAX_MODE'\n",
      " 'FLOORSMIN_MODE' 'LANDAREA_MODE' 'LIVINGAPARTMENTS_MODE'\n",
      " 'LIVINGAREA_MODE' 'NONLIVINGAPARTMENTS_MODE' 'NONLIVINGAREA_MODE'\n",
      " 'APARTMENTS_MEDI' 'BASEMENTAREA_MEDI' 'YEARS_BEGINEXPLUATATION_MEDI'\n",
      " 'YEARS_BUILD_MEDI' 'COMMONAREA_MEDI' 'ELEVATORS_MEDI' 'ENTRANCES_MEDI'\n",
      " 'FLOORSMAX_MEDI' 'FLOORSMIN_MEDI' 'LANDAREA_MEDI' 'LIVINGAPARTMENTS_MEDI'\n",
      " 'LIVINGAREA_MEDI' 'NONLIVINGAPARTMENTS_MEDI' 'NONLIVINGAREA_MEDI'\n",
      " 'FONDKAPREMONT_MODE' 'HOUSETYPE_MODE' 'TOTALAREA_MODE'\n",
      " 'WALLSMATERIAL_MODE' 'EMERGENCYSTATE_MODE' 'OBS_30_CNT_SOCIAL_CIRCLE'\n",
      " 'DEF_30_CNT_SOCIAL_CIRCLE' 'OBS_60_CNT_SOCIAL_CIRCLE'\n",
      " 'DEF_60_CNT_SOCIAL_CIRCLE' 'DAYS_LAST_PHONE_CHANGE' 'FLAG_DOCUMENT_2'\n",
      " 'FLAG_DOCUMENT_3' 'FLAG_DOCUMENT_4' 'FLAG_DOCUMENT_5' 'FLAG_DOCUMENT_6'\n",
      " 'FLAG_DOCUMENT_7' 'FLAG_DOCUMENT_8' 'FLAG_DOCUMENT_9' 'FLAG_DOCUMENT_10'\n",
      " 'FLAG_DOCUMENT_11' 'FLAG_DOCUMENT_12' 'FLAG_DOCUMENT_13'\n",
      " 'FLAG_DOCUMENT_14' 'FLAG_DOCUMENT_15' 'FLAG_DOCUMENT_16'\n",
      " 'FLAG_DOCUMENT_17' 'FLAG_DOCUMENT_18' 'FLAG_DOCUMENT_19'\n",
      " 'FLAG_DOCUMENT_20' 'FLAG_DOCUMENT_21' 'AMT_REQ_CREDIT_BUREAU_HOUR'\n",
      " 'AMT_REQ_CREDIT_BUREAU_DAY' 'AMT_REQ_CREDIT_BUREAU_WEEK'\n",
      " 'AMT_REQ_CREDIT_BUREAU_MON' 'AMT_REQ_CREDIT_BUREAU_QRT'\n",
      " 'AMT_REQ_CREDIT_BUREAU_YEAR']\n"
     ]
    }
   ],
   "source": [
    "print('Column Names : ', application_train.columns.values)\n"
   ]
  },
  {
   "cell_type": "code",
   "execution_count": 9,
   "id": "7e830735",
   "metadata": {},
   "outputs": [
    {
     "name": "stdout",
     "output_type": "stream",
     "text": [
      "Column Names :  ['SK_ID_CURR' 'SK_ID_BUREAU' 'CREDIT_ACTIVE' 'CREDIT_CURRENCY'\n",
      " 'DAYS_CREDIT' 'CREDIT_DAY_OVERDUE' 'DAYS_CREDIT_ENDDATE'\n",
      " 'DAYS_ENDDATE_FACT' 'AMT_CREDIT_MAX_OVERDUE' 'CNT_CREDIT_PROLONG'\n",
      " 'AMT_CREDIT_SUM' 'AMT_CREDIT_SUM_DEBT' 'AMT_CREDIT_SUM_LIMIT'\n",
      " 'AMT_CREDIT_SUM_OVERDUE' 'CREDIT_TYPE' 'DAYS_CREDIT_UPDATE' 'AMT_ANNUITY']\n"
     ]
    }
   ],
   "source": [
    "print('Column Names : ', bureau.columns.values)\n"
   ]
  },
  {
   "cell_type": "code",
   "execution_count": 8,
   "id": "26761a74",
   "metadata": {},
   "outputs": [
    {
     "data": {
      "text/html": [
       "<div>\n",
       "<style scoped>\n",
       "    .dataframe tbody tr th:only-of-type {\n",
       "        vertical-align: middle;\n",
       "    }\n",
       "\n",
       "    .dataframe tbody tr th {\n",
       "        vertical-align: top;\n",
       "    }\n",
       "\n",
       "    .dataframe thead th {\n",
       "        text-align: right;\n",
       "    }\n",
       "</style>\n",
       "<table border=\"1\" class=\"dataframe\">\n",
       "  <thead>\n",
       "    <tr style=\"text-align: right;\">\n",
       "      <th></th>\n",
       "      <th>SK_ID_CURR</th>\n",
       "      <th>TARGET</th>\n",
       "      <th>NAME_CONTRACT_TYPE</th>\n",
       "      <th>CODE_GENDER</th>\n",
       "      <th>FLAG_OWN_CAR</th>\n",
       "      <th>FLAG_OWN_REALTY</th>\n",
       "      <th>CNT_CHILDREN</th>\n",
       "      <th>AMT_INCOME_TOTAL</th>\n",
       "      <th>AMT_CREDIT</th>\n",
       "      <th>AMT_ANNUITY</th>\n",
       "      <th>...</th>\n",
       "      <th>FLAG_DOCUMENT_18</th>\n",
       "      <th>FLAG_DOCUMENT_19</th>\n",
       "      <th>FLAG_DOCUMENT_20</th>\n",
       "      <th>FLAG_DOCUMENT_21</th>\n",
       "      <th>AMT_REQ_CREDIT_BUREAU_HOUR</th>\n",
       "      <th>AMT_REQ_CREDIT_BUREAU_DAY</th>\n",
       "      <th>AMT_REQ_CREDIT_BUREAU_WEEK</th>\n",
       "      <th>AMT_REQ_CREDIT_BUREAU_MON</th>\n",
       "      <th>AMT_REQ_CREDIT_BUREAU_QRT</th>\n",
       "      <th>AMT_REQ_CREDIT_BUREAU_YEAR</th>\n",
       "    </tr>\n",
       "  </thead>\n",
       "  <tbody>\n",
       "    <tr>\n",
       "      <th>0</th>\n",
       "      <td>100002</td>\n",
       "      <td>1</td>\n",
       "      <td>Cash loans</td>\n",
       "      <td>M</td>\n",
       "      <td>N</td>\n",
       "      <td>Y</td>\n",
       "      <td>0</td>\n",
       "      <td>202500.0</td>\n",
       "      <td>406597.5</td>\n",
       "      <td>24700.5</td>\n",
       "      <td>...</td>\n",
       "      <td>0</td>\n",
       "      <td>0</td>\n",
       "      <td>0</td>\n",
       "      <td>0</td>\n",
       "      <td>0.0</td>\n",
       "      <td>0.0</td>\n",
       "      <td>0.0</td>\n",
       "      <td>0.0</td>\n",
       "      <td>0.0</td>\n",
       "      <td>1.0</td>\n",
       "    </tr>\n",
       "    <tr>\n",
       "      <th>1</th>\n",
       "      <td>100003</td>\n",
       "      <td>0</td>\n",
       "      <td>Cash loans</td>\n",
       "      <td>F</td>\n",
       "      <td>N</td>\n",
       "      <td>N</td>\n",
       "      <td>0</td>\n",
       "      <td>270000.0</td>\n",
       "      <td>1293502.5</td>\n",
       "      <td>35698.5</td>\n",
       "      <td>...</td>\n",
       "      <td>0</td>\n",
       "      <td>0</td>\n",
       "      <td>0</td>\n",
       "      <td>0</td>\n",
       "      <td>0.0</td>\n",
       "      <td>0.0</td>\n",
       "      <td>0.0</td>\n",
       "      <td>0.0</td>\n",
       "      <td>0.0</td>\n",
       "      <td>0.0</td>\n",
       "    </tr>\n",
       "    <tr>\n",
       "      <th>2</th>\n",
       "      <td>100004</td>\n",
       "      <td>0</td>\n",
       "      <td>Revolving loans</td>\n",
       "      <td>M</td>\n",
       "      <td>Y</td>\n",
       "      <td>Y</td>\n",
       "      <td>0</td>\n",
       "      <td>67500.0</td>\n",
       "      <td>135000.0</td>\n",
       "      <td>6750.0</td>\n",
       "      <td>...</td>\n",
       "      <td>0</td>\n",
       "      <td>0</td>\n",
       "      <td>0</td>\n",
       "      <td>0</td>\n",
       "      <td>0.0</td>\n",
       "      <td>0.0</td>\n",
       "      <td>0.0</td>\n",
       "      <td>0.0</td>\n",
       "      <td>0.0</td>\n",
       "      <td>0.0</td>\n",
       "    </tr>\n",
       "    <tr>\n",
       "      <th>3</th>\n",
       "      <td>100006</td>\n",
       "      <td>0</td>\n",
       "      <td>Cash loans</td>\n",
       "      <td>F</td>\n",
       "      <td>N</td>\n",
       "      <td>Y</td>\n",
       "      <td>0</td>\n",
       "      <td>135000.0</td>\n",
       "      <td>312682.5</td>\n",
       "      <td>29686.5</td>\n",
       "      <td>...</td>\n",
       "      <td>0</td>\n",
       "      <td>0</td>\n",
       "      <td>0</td>\n",
       "      <td>0</td>\n",
       "      <td>NaN</td>\n",
       "      <td>NaN</td>\n",
       "      <td>NaN</td>\n",
       "      <td>NaN</td>\n",
       "      <td>NaN</td>\n",
       "      <td>NaN</td>\n",
       "    </tr>\n",
       "    <tr>\n",
       "      <th>4</th>\n",
       "      <td>100007</td>\n",
       "      <td>0</td>\n",
       "      <td>Cash loans</td>\n",
       "      <td>M</td>\n",
       "      <td>N</td>\n",
       "      <td>Y</td>\n",
       "      <td>0</td>\n",
       "      <td>121500.0</td>\n",
       "      <td>513000.0</td>\n",
       "      <td>21865.5</td>\n",
       "      <td>...</td>\n",
       "      <td>0</td>\n",
       "      <td>0</td>\n",
       "      <td>0</td>\n",
       "      <td>0</td>\n",
       "      <td>0.0</td>\n",
       "      <td>0.0</td>\n",
       "      <td>0.0</td>\n",
       "      <td>0.0</td>\n",
       "      <td>0.0</td>\n",
       "      <td>0.0</td>\n",
       "    </tr>\n",
       "  </tbody>\n",
       "</table>\n",
       "<p>5 rows × 122 columns</p>\n",
       "</div>"
      ],
      "text/plain": [
       "   SK_ID_CURR  TARGET NAME_CONTRACT_TYPE CODE_GENDER FLAG_OWN_CAR  \\\n",
       "0      100002       1         Cash loans           M            N   \n",
       "1      100003       0         Cash loans           F            N   \n",
       "2      100004       0    Revolving loans           M            Y   \n",
       "3      100006       0         Cash loans           F            N   \n",
       "4      100007       0         Cash loans           M            N   \n",
       "\n",
       "  FLAG_OWN_REALTY  CNT_CHILDREN  AMT_INCOME_TOTAL  AMT_CREDIT  AMT_ANNUITY  \\\n",
       "0               Y             0          202500.0    406597.5      24700.5   \n",
       "1               N             0          270000.0   1293502.5      35698.5   \n",
       "2               Y             0           67500.0    135000.0       6750.0   \n",
       "3               Y             0          135000.0    312682.5      29686.5   \n",
       "4               Y             0          121500.0    513000.0      21865.5   \n",
       "\n",
       "   ...  FLAG_DOCUMENT_18 FLAG_DOCUMENT_19 FLAG_DOCUMENT_20 FLAG_DOCUMENT_21  \\\n",
       "0  ...                 0                0                0                0   \n",
       "1  ...                 0                0                0                0   \n",
       "2  ...                 0                0                0                0   \n",
       "3  ...                 0                0                0                0   \n",
       "4  ...                 0                0                0                0   \n",
       "\n",
       "  AMT_REQ_CREDIT_BUREAU_HOUR AMT_REQ_CREDIT_BUREAU_DAY  \\\n",
       "0                        0.0                       0.0   \n",
       "1                        0.0                       0.0   \n",
       "2                        0.0                       0.0   \n",
       "3                        NaN                       NaN   \n",
       "4                        0.0                       0.0   \n",
       "\n",
       "   AMT_REQ_CREDIT_BUREAU_WEEK  AMT_REQ_CREDIT_BUREAU_MON  \\\n",
       "0                         0.0                        0.0   \n",
       "1                         0.0                        0.0   \n",
       "2                         0.0                        0.0   \n",
       "3                         NaN                        NaN   \n",
       "4                         0.0                        0.0   \n",
       "\n",
       "   AMT_REQ_CREDIT_BUREAU_QRT  AMT_REQ_CREDIT_BUREAU_YEAR  \n",
       "0                        0.0                         1.0  \n",
       "1                        0.0                         0.0  \n",
       "2                        0.0                         0.0  \n",
       "3                        NaN                         NaN  \n",
       "4                        0.0                         0.0  \n",
       "\n",
       "[5 rows x 122 columns]"
      ]
     },
     "execution_count": 8,
     "metadata": {},
     "output_type": "execute_result"
    }
   ],
   "source": [
    "application_train.head(5)\n"
   ]
  },
  {
   "cell_type": "code",
   "execution_count": 10,
   "id": "49fae330",
   "metadata": {},
   "outputs": [
    {
     "data": {
      "text/html": [
       "<div>\n",
       "<style scoped>\n",
       "    .dataframe tbody tr th:only-of-type {\n",
       "        vertical-align: middle;\n",
       "    }\n",
       "\n",
       "    .dataframe tbody tr th {\n",
       "        vertical-align: top;\n",
       "    }\n",
       "\n",
       "    .dataframe thead th {\n",
       "        text-align: right;\n",
       "    }\n",
       "</style>\n",
       "<table border=\"1\" class=\"dataframe\">\n",
       "  <thead>\n",
       "    <tr style=\"text-align: right;\">\n",
       "      <th></th>\n",
       "      <th>SK_ID_CURR</th>\n",
       "      <th>SK_ID_BUREAU</th>\n",
       "      <th>CREDIT_ACTIVE</th>\n",
       "      <th>CREDIT_CURRENCY</th>\n",
       "      <th>DAYS_CREDIT</th>\n",
       "      <th>CREDIT_DAY_OVERDUE</th>\n",
       "      <th>DAYS_CREDIT_ENDDATE</th>\n",
       "      <th>DAYS_ENDDATE_FACT</th>\n",
       "      <th>AMT_CREDIT_MAX_OVERDUE</th>\n",
       "      <th>CNT_CREDIT_PROLONG</th>\n",
       "      <th>AMT_CREDIT_SUM</th>\n",
       "      <th>AMT_CREDIT_SUM_DEBT</th>\n",
       "      <th>AMT_CREDIT_SUM_LIMIT</th>\n",
       "      <th>AMT_CREDIT_SUM_OVERDUE</th>\n",
       "      <th>CREDIT_TYPE</th>\n",
       "      <th>DAYS_CREDIT_UPDATE</th>\n",
       "      <th>AMT_ANNUITY</th>\n",
       "    </tr>\n",
       "  </thead>\n",
       "  <tbody>\n",
       "    <tr>\n",
       "      <th>0</th>\n",
       "      <td>215354</td>\n",
       "      <td>5714462</td>\n",
       "      <td>Closed</td>\n",
       "      <td>currency 1</td>\n",
       "      <td>-497</td>\n",
       "      <td>0</td>\n",
       "      <td>-153.0</td>\n",
       "      <td>-153.0</td>\n",
       "      <td>NaN</td>\n",
       "      <td>0</td>\n",
       "      <td>91323.0</td>\n",
       "      <td>0.0</td>\n",
       "      <td>NaN</td>\n",
       "      <td>0.0</td>\n",
       "      <td>Consumer credit</td>\n",
       "      <td>-131</td>\n",
       "      <td>NaN</td>\n",
       "    </tr>\n",
       "    <tr>\n",
       "      <th>1</th>\n",
       "      <td>215354</td>\n",
       "      <td>5714463</td>\n",
       "      <td>Active</td>\n",
       "      <td>currency 1</td>\n",
       "      <td>-208</td>\n",
       "      <td>0</td>\n",
       "      <td>1075.0</td>\n",
       "      <td>NaN</td>\n",
       "      <td>NaN</td>\n",
       "      <td>0</td>\n",
       "      <td>225000.0</td>\n",
       "      <td>171342.0</td>\n",
       "      <td>NaN</td>\n",
       "      <td>0.0</td>\n",
       "      <td>Credit card</td>\n",
       "      <td>-20</td>\n",
       "      <td>NaN</td>\n",
       "    </tr>\n",
       "    <tr>\n",
       "      <th>2</th>\n",
       "      <td>215354</td>\n",
       "      <td>5714464</td>\n",
       "      <td>Active</td>\n",
       "      <td>currency 1</td>\n",
       "      <td>-203</td>\n",
       "      <td>0</td>\n",
       "      <td>528.0</td>\n",
       "      <td>NaN</td>\n",
       "      <td>NaN</td>\n",
       "      <td>0</td>\n",
       "      <td>464323.5</td>\n",
       "      <td>NaN</td>\n",
       "      <td>NaN</td>\n",
       "      <td>0.0</td>\n",
       "      <td>Consumer credit</td>\n",
       "      <td>-16</td>\n",
       "      <td>NaN</td>\n",
       "    </tr>\n",
       "    <tr>\n",
       "      <th>3</th>\n",
       "      <td>215354</td>\n",
       "      <td>5714465</td>\n",
       "      <td>Active</td>\n",
       "      <td>currency 1</td>\n",
       "      <td>-203</td>\n",
       "      <td>0</td>\n",
       "      <td>NaN</td>\n",
       "      <td>NaN</td>\n",
       "      <td>NaN</td>\n",
       "      <td>0</td>\n",
       "      <td>90000.0</td>\n",
       "      <td>NaN</td>\n",
       "      <td>NaN</td>\n",
       "      <td>0.0</td>\n",
       "      <td>Credit card</td>\n",
       "      <td>-16</td>\n",
       "      <td>NaN</td>\n",
       "    </tr>\n",
       "    <tr>\n",
       "      <th>4</th>\n",
       "      <td>215354</td>\n",
       "      <td>5714466</td>\n",
       "      <td>Active</td>\n",
       "      <td>currency 1</td>\n",
       "      <td>-629</td>\n",
       "      <td>0</td>\n",
       "      <td>1197.0</td>\n",
       "      <td>NaN</td>\n",
       "      <td>77674.5</td>\n",
       "      <td>0</td>\n",
       "      <td>2700000.0</td>\n",
       "      <td>NaN</td>\n",
       "      <td>NaN</td>\n",
       "      <td>0.0</td>\n",
       "      <td>Consumer credit</td>\n",
       "      <td>-21</td>\n",
       "      <td>NaN</td>\n",
       "    </tr>\n",
       "  </tbody>\n",
       "</table>\n",
       "</div>"
      ],
      "text/plain": [
       "   SK_ID_CURR  SK_ID_BUREAU CREDIT_ACTIVE CREDIT_CURRENCY  DAYS_CREDIT  \\\n",
       "0      215354       5714462        Closed      currency 1         -497   \n",
       "1      215354       5714463        Active      currency 1         -208   \n",
       "2      215354       5714464        Active      currency 1         -203   \n",
       "3      215354       5714465        Active      currency 1         -203   \n",
       "4      215354       5714466        Active      currency 1         -629   \n",
       "\n",
       "   CREDIT_DAY_OVERDUE  DAYS_CREDIT_ENDDATE  DAYS_ENDDATE_FACT  \\\n",
       "0                   0               -153.0             -153.0   \n",
       "1                   0               1075.0                NaN   \n",
       "2                   0                528.0                NaN   \n",
       "3                   0                  NaN                NaN   \n",
       "4                   0               1197.0                NaN   \n",
       "\n",
       "   AMT_CREDIT_MAX_OVERDUE  CNT_CREDIT_PROLONG  AMT_CREDIT_SUM  \\\n",
       "0                     NaN                   0         91323.0   \n",
       "1                     NaN                   0        225000.0   \n",
       "2                     NaN                   0        464323.5   \n",
       "3                     NaN                   0         90000.0   \n",
       "4                 77674.5                   0       2700000.0   \n",
       "\n",
       "   AMT_CREDIT_SUM_DEBT  AMT_CREDIT_SUM_LIMIT  AMT_CREDIT_SUM_OVERDUE  \\\n",
       "0                  0.0                   NaN                     0.0   \n",
       "1             171342.0                   NaN                     0.0   \n",
       "2                  NaN                   NaN                     0.0   \n",
       "3                  NaN                   NaN                     0.0   \n",
       "4                  NaN                   NaN                     0.0   \n",
       "\n",
       "       CREDIT_TYPE  DAYS_CREDIT_UPDATE  AMT_ANNUITY  \n",
       "0  Consumer credit                -131          NaN  \n",
       "1      Credit card                 -20          NaN  \n",
       "2  Consumer credit                 -16          NaN  \n",
       "3      Credit card                 -16          NaN  \n",
       "4  Consumer credit                 -21          NaN  "
      ]
     },
     "execution_count": 10,
     "metadata": {},
     "output_type": "execute_result"
    }
   ],
   "source": [
    "bureau.head(5)\n"
   ]
  },
  {
   "cell_type": "markdown",
   "id": "d5b0a937",
   "metadata": {},
   "source": [
    "# Statistical Description Summary of Numerical Columns "
   ]
  },
  {
   "cell_type": "code",
   "execution_count": 11,
   "id": "cdda46e6",
   "metadata": {},
   "outputs": [
    {
     "data": {
      "text/html": [
       "<div>\n",
       "<style scoped>\n",
       "    .dataframe tbody tr th:only-of-type {\n",
       "        vertical-align: middle;\n",
       "    }\n",
       "\n",
       "    .dataframe tbody tr th {\n",
       "        vertical-align: top;\n",
       "    }\n",
       "\n",
       "    .dataframe thead th {\n",
       "        text-align: right;\n",
       "    }\n",
       "</style>\n",
       "<table border=\"1\" class=\"dataframe\">\n",
       "  <thead>\n",
       "    <tr style=\"text-align: right;\">\n",
       "      <th></th>\n",
       "      <th>SK_ID_CURR</th>\n",
       "      <th>TARGET</th>\n",
       "      <th>CNT_CHILDREN</th>\n",
       "      <th>AMT_INCOME_TOTAL</th>\n",
       "      <th>AMT_CREDIT</th>\n",
       "      <th>AMT_ANNUITY</th>\n",
       "      <th>AMT_GOODS_PRICE</th>\n",
       "      <th>REGION_POPULATION_RELATIVE</th>\n",
       "      <th>DAYS_BIRTH</th>\n",
       "      <th>DAYS_EMPLOYED</th>\n",
       "      <th>...</th>\n",
       "      <th>FLAG_DOCUMENT_18</th>\n",
       "      <th>FLAG_DOCUMENT_19</th>\n",
       "      <th>FLAG_DOCUMENT_20</th>\n",
       "      <th>FLAG_DOCUMENT_21</th>\n",
       "      <th>AMT_REQ_CREDIT_BUREAU_HOUR</th>\n",
       "      <th>AMT_REQ_CREDIT_BUREAU_DAY</th>\n",
       "      <th>AMT_REQ_CREDIT_BUREAU_WEEK</th>\n",
       "      <th>AMT_REQ_CREDIT_BUREAU_MON</th>\n",
       "      <th>AMT_REQ_CREDIT_BUREAU_QRT</th>\n",
       "      <th>AMT_REQ_CREDIT_BUREAU_YEAR</th>\n",
       "    </tr>\n",
       "  </thead>\n",
       "  <tbody>\n",
       "    <tr>\n",
       "      <th>count</th>\n",
       "      <td>307511.000000</td>\n",
       "      <td>307511.000000</td>\n",
       "      <td>307511.000000</td>\n",
       "      <td>307511.000000</td>\n",
       "      <td>307511.000000</td>\n",
       "      <td>307499.000000</td>\n",
       "      <td>307233.000000</td>\n",
       "      <td>307511.000000</td>\n",
       "      <td>307511.000000</td>\n",
       "      <td>307511.000000</td>\n",
       "      <td>...</td>\n",
       "      <td>307511.000000</td>\n",
       "      <td>307511.000000</td>\n",
       "      <td>307511.000000</td>\n",
       "      <td>307511.000000</td>\n",
       "      <td>265992.000000</td>\n",
       "      <td>265992.000000</td>\n",
       "      <td>265992.000000</td>\n",
       "      <td>265992.000000</td>\n",
       "      <td>265992.000000</td>\n",
       "      <td>265992.000000</td>\n",
       "    </tr>\n",
       "    <tr>\n",
       "      <th>mean</th>\n",
       "      <td>278180.518577</td>\n",
       "      <td>0.080729</td>\n",
       "      <td>0.417052</td>\n",
       "      <td>168797.919297</td>\n",
       "      <td>599025.999706</td>\n",
       "      <td>27108.573909</td>\n",
       "      <td>538396.207429</td>\n",
       "      <td>0.020868</td>\n",
       "      <td>-16036.995067</td>\n",
       "      <td>63815.045904</td>\n",
       "      <td>...</td>\n",
       "      <td>0.008130</td>\n",
       "      <td>0.000595</td>\n",
       "      <td>0.000507</td>\n",
       "      <td>0.000335</td>\n",
       "      <td>0.006402</td>\n",
       "      <td>0.007000</td>\n",
       "      <td>0.034362</td>\n",
       "      <td>0.267395</td>\n",
       "      <td>0.265474</td>\n",
       "      <td>1.899974</td>\n",
       "    </tr>\n",
       "    <tr>\n",
       "      <th>std</th>\n",
       "      <td>102790.175348</td>\n",
       "      <td>0.272419</td>\n",
       "      <td>0.722121</td>\n",
       "      <td>237123.146279</td>\n",
       "      <td>402490.776996</td>\n",
       "      <td>14493.737315</td>\n",
       "      <td>369446.460540</td>\n",
       "      <td>0.013831</td>\n",
       "      <td>4363.988632</td>\n",
       "      <td>141275.766519</td>\n",
       "      <td>...</td>\n",
       "      <td>0.089798</td>\n",
       "      <td>0.024387</td>\n",
       "      <td>0.022518</td>\n",
       "      <td>0.018299</td>\n",
       "      <td>0.083849</td>\n",
       "      <td>0.110757</td>\n",
       "      <td>0.204685</td>\n",
       "      <td>0.916002</td>\n",
       "      <td>0.794056</td>\n",
       "      <td>1.869295</td>\n",
       "    </tr>\n",
       "    <tr>\n",
       "      <th>min</th>\n",
       "      <td>100002.000000</td>\n",
       "      <td>0.000000</td>\n",
       "      <td>0.000000</td>\n",
       "      <td>25650.000000</td>\n",
       "      <td>45000.000000</td>\n",
       "      <td>1615.500000</td>\n",
       "      <td>40500.000000</td>\n",
       "      <td>0.000290</td>\n",
       "      <td>-25229.000000</td>\n",
       "      <td>-17912.000000</td>\n",
       "      <td>...</td>\n",
       "      <td>0.000000</td>\n",
       "      <td>0.000000</td>\n",
       "      <td>0.000000</td>\n",
       "      <td>0.000000</td>\n",
       "      <td>0.000000</td>\n",
       "      <td>0.000000</td>\n",
       "      <td>0.000000</td>\n",
       "      <td>0.000000</td>\n",
       "      <td>0.000000</td>\n",
       "      <td>0.000000</td>\n",
       "    </tr>\n",
       "    <tr>\n",
       "      <th>25%</th>\n",
       "      <td>189145.500000</td>\n",
       "      <td>0.000000</td>\n",
       "      <td>0.000000</td>\n",
       "      <td>112500.000000</td>\n",
       "      <td>270000.000000</td>\n",
       "      <td>16524.000000</td>\n",
       "      <td>238500.000000</td>\n",
       "      <td>0.010006</td>\n",
       "      <td>-19682.000000</td>\n",
       "      <td>-2760.000000</td>\n",
       "      <td>...</td>\n",
       "      <td>0.000000</td>\n",
       "      <td>0.000000</td>\n",
       "      <td>0.000000</td>\n",
       "      <td>0.000000</td>\n",
       "      <td>0.000000</td>\n",
       "      <td>0.000000</td>\n",
       "      <td>0.000000</td>\n",
       "      <td>0.000000</td>\n",
       "      <td>0.000000</td>\n",
       "      <td>0.000000</td>\n",
       "    </tr>\n",
       "    <tr>\n",
       "      <th>50%</th>\n",
       "      <td>278202.000000</td>\n",
       "      <td>0.000000</td>\n",
       "      <td>0.000000</td>\n",
       "      <td>147150.000000</td>\n",
       "      <td>513531.000000</td>\n",
       "      <td>24903.000000</td>\n",
       "      <td>450000.000000</td>\n",
       "      <td>0.018850</td>\n",
       "      <td>-15750.000000</td>\n",
       "      <td>-1213.000000</td>\n",
       "      <td>...</td>\n",
       "      <td>0.000000</td>\n",
       "      <td>0.000000</td>\n",
       "      <td>0.000000</td>\n",
       "      <td>0.000000</td>\n",
       "      <td>0.000000</td>\n",
       "      <td>0.000000</td>\n",
       "      <td>0.000000</td>\n",
       "      <td>0.000000</td>\n",
       "      <td>0.000000</td>\n",
       "      <td>1.000000</td>\n",
       "    </tr>\n",
       "    <tr>\n",
       "      <th>75%</th>\n",
       "      <td>367142.500000</td>\n",
       "      <td>0.000000</td>\n",
       "      <td>1.000000</td>\n",
       "      <td>202500.000000</td>\n",
       "      <td>808650.000000</td>\n",
       "      <td>34596.000000</td>\n",
       "      <td>679500.000000</td>\n",
       "      <td>0.028663</td>\n",
       "      <td>-12413.000000</td>\n",
       "      <td>-289.000000</td>\n",
       "      <td>...</td>\n",
       "      <td>0.000000</td>\n",
       "      <td>0.000000</td>\n",
       "      <td>0.000000</td>\n",
       "      <td>0.000000</td>\n",
       "      <td>0.000000</td>\n",
       "      <td>0.000000</td>\n",
       "      <td>0.000000</td>\n",
       "      <td>0.000000</td>\n",
       "      <td>0.000000</td>\n",
       "      <td>3.000000</td>\n",
       "    </tr>\n",
       "    <tr>\n",
       "      <th>max</th>\n",
       "      <td>456255.000000</td>\n",
       "      <td>1.000000</td>\n",
       "      <td>19.000000</td>\n",
       "      <td>117000000.000000</td>\n",
       "      <td>4050000.000000</td>\n",
       "      <td>258025.500000</td>\n",
       "      <td>4050000.000000</td>\n",
       "      <td>0.072508</td>\n",
       "      <td>-7489.000000</td>\n",
       "      <td>365243.000000</td>\n",
       "      <td>...</td>\n",
       "      <td>1.000000</td>\n",
       "      <td>1.000000</td>\n",
       "      <td>1.000000</td>\n",
       "      <td>1.000000</td>\n",
       "      <td>4.000000</td>\n",
       "      <td>9.000000</td>\n",
       "      <td>8.000000</td>\n",
       "      <td>27.000000</td>\n",
       "      <td>261.000000</td>\n",
       "      <td>25.000000</td>\n",
       "    </tr>\n",
       "  </tbody>\n",
       "</table>\n",
       "<p>8 rows × 106 columns</p>\n",
       "</div>"
      ],
      "text/plain": [
       "          SK_ID_CURR         TARGET   CNT_CHILDREN  AMT_INCOME_TOTAL  \\\n",
       "count  307511.000000  307511.000000  307511.000000     307511.000000   \n",
       "mean   278180.518577       0.080729       0.417052     168797.919297   \n",
       "std    102790.175348       0.272419       0.722121     237123.146279   \n",
       "min    100002.000000       0.000000       0.000000      25650.000000   \n",
       "25%    189145.500000       0.000000       0.000000     112500.000000   \n",
       "50%    278202.000000       0.000000       0.000000     147150.000000   \n",
       "75%    367142.500000       0.000000       1.000000     202500.000000   \n",
       "max    456255.000000       1.000000      19.000000  117000000.000000   \n",
       "\n",
       "           AMT_CREDIT    AMT_ANNUITY AMT_GOODS_PRICE  \\\n",
       "count   307511.000000  307499.000000   307233.000000   \n",
       "mean    599025.999706   27108.573909   538396.207429   \n",
       "std     402490.776996   14493.737315   369446.460540   \n",
       "min      45000.000000    1615.500000    40500.000000   \n",
       "25%     270000.000000   16524.000000   238500.000000   \n",
       "50%     513531.000000   24903.000000   450000.000000   \n",
       "75%     808650.000000   34596.000000   679500.000000   \n",
       "max    4050000.000000  258025.500000  4050000.000000   \n",
       "\n",
       "      REGION_POPULATION_RELATIVE     DAYS_BIRTH  DAYS_EMPLOYED  ...  \\\n",
       "count              307511.000000  307511.000000  307511.000000  ...   \n",
       "mean                    0.020868  -16036.995067   63815.045904  ...   \n",
       "std                     0.013831    4363.988632  141275.766519  ...   \n",
       "min                     0.000290  -25229.000000  -17912.000000  ...   \n",
       "25%                     0.010006  -19682.000000   -2760.000000  ...   \n",
       "50%                     0.018850  -15750.000000   -1213.000000  ...   \n",
       "75%                     0.028663  -12413.000000    -289.000000  ...   \n",
       "max                     0.072508   -7489.000000  365243.000000  ...   \n",
       "\n",
       "      FLAG_DOCUMENT_18 FLAG_DOCUMENT_19 FLAG_DOCUMENT_20 FLAG_DOCUMENT_21  \\\n",
       "count    307511.000000    307511.000000    307511.000000    307511.000000   \n",
       "mean          0.008130         0.000595         0.000507         0.000335   \n",
       "std           0.089798         0.024387         0.022518         0.018299   \n",
       "min           0.000000         0.000000         0.000000         0.000000   \n",
       "25%           0.000000         0.000000         0.000000         0.000000   \n",
       "50%           0.000000         0.000000         0.000000         0.000000   \n",
       "75%           0.000000         0.000000         0.000000         0.000000   \n",
       "max           1.000000         1.000000         1.000000         1.000000   \n",
       "\n",
       "      AMT_REQ_CREDIT_BUREAU_HOUR AMT_REQ_CREDIT_BUREAU_DAY  \\\n",
       "count              265992.000000             265992.000000   \n",
       "mean                    0.006402                  0.007000   \n",
       "std                     0.083849                  0.110757   \n",
       "min                     0.000000                  0.000000   \n",
       "25%                     0.000000                  0.000000   \n",
       "50%                     0.000000                  0.000000   \n",
       "75%                     0.000000                  0.000000   \n",
       "max                     4.000000                  9.000000   \n",
       "\n",
       "      AMT_REQ_CREDIT_BUREAU_WEEK AMT_REQ_CREDIT_BUREAU_MON  \\\n",
       "count              265992.000000             265992.000000   \n",
       "mean                    0.034362                  0.267395   \n",
       "std                     0.204685                  0.916002   \n",
       "min                     0.000000                  0.000000   \n",
       "25%                     0.000000                  0.000000   \n",
       "50%                     0.000000                  0.000000   \n",
       "75%                     0.000000                  0.000000   \n",
       "max                     8.000000                 27.000000   \n",
       "\n",
       "      AMT_REQ_CREDIT_BUREAU_QRT AMT_REQ_CREDIT_BUREAU_YEAR  \n",
       "count             265992.000000              265992.000000  \n",
       "mean                   0.265474                   1.899974  \n",
       "std                    0.794056                   1.869295  \n",
       "min                    0.000000                   0.000000  \n",
       "25%                    0.000000                   0.000000  \n",
       "50%                    0.000000                   1.000000  \n",
       "75%                    0.000000                   3.000000  \n",
       "max                  261.000000                  25.000000  \n",
       "\n",
       "[8 rows x 106 columns]"
      ]
     },
     "execution_count": 11,
     "metadata": {},
     "output_type": "execute_result"
    }
   ],
   "source": [
    "application_train.describe().apply(lambda s:s.apply(lambda x: format(x,'f')))\n"
   ]
  },
  {
   "cell_type": "code",
   "execution_count": 12,
   "id": "2f00dfce",
   "metadata": {},
   "outputs": [
    {
     "data": {
      "text/html": [
       "<div>\n",
       "<style scoped>\n",
       "    .dataframe tbody tr th:only-of-type {\n",
       "        vertical-align: middle;\n",
       "    }\n",
       "\n",
       "    .dataframe tbody tr th {\n",
       "        vertical-align: top;\n",
       "    }\n",
       "\n",
       "    .dataframe thead th {\n",
       "        text-align: right;\n",
       "    }\n",
       "</style>\n",
       "<table border=\"1\" class=\"dataframe\">\n",
       "  <thead>\n",
       "    <tr style=\"text-align: right;\">\n",
       "      <th></th>\n",
       "      <th>SK_ID_CURR</th>\n",
       "      <th>SK_ID_BUREAU</th>\n",
       "      <th>DAYS_CREDIT</th>\n",
       "      <th>CREDIT_DAY_OVERDUE</th>\n",
       "      <th>DAYS_CREDIT_ENDDATE</th>\n",
       "      <th>DAYS_ENDDATE_FACT</th>\n",
       "      <th>AMT_CREDIT_MAX_OVERDUE</th>\n",
       "      <th>CNT_CREDIT_PROLONG</th>\n",
       "      <th>AMT_CREDIT_SUM</th>\n",
       "      <th>AMT_CREDIT_SUM_DEBT</th>\n",
       "      <th>AMT_CREDIT_SUM_LIMIT</th>\n",
       "      <th>AMT_CREDIT_SUM_OVERDUE</th>\n",
       "      <th>DAYS_CREDIT_UPDATE</th>\n",
       "      <th>AMT_ANNUITY</th>\n",
       "    </tr>\n",
       "  </thead>\n",
       "  <tbody>\n",
       "    <tr>\n",
       "      <th>count</th>\n",
       "      <td>1716428.000000</td>\n",
       "      <td>1716428.000000</td>\n",
       "      <td>1716428.000000</td>\n",
       "      <td>1716428.000000</td>\n",
       "      <td>1610875.000000</td>\n",
       "      <td>1082775.000000</td>\n",
       "      <td>591940.000000</td>\n",
       "      <td>1716428.000000</td>\n",
       "      <td>1716415.000000</td>\n",
       "      <td>1458759.000000</td>\n",
       "      <td>1124648.000000</td>\n",
       "      <td>1716428.000000</td>\n",
       "      <td>1716428.000000</td>\n",
       "      <td>489637.000000</td>\n",
       "    </tr>\n",
       "    <tr>\n",
       "      <th>mean</th>\n",
       "      <td>278214.933645</td>\n",
       "      <td>5924434.489032</td>\n",
       "      <td>-1142.107685</td>\n",
       "      <td>0.818167</td>\n",
       "      <td>510.517362</td>\n",
       "      <td>-1017.437148</td>\n",
       "      <td>3825.417661</td>\n",
       "      <td>0.006410</td>\n",
       "      <td>354994.591918</td>\n",
       "      <td>137085.119952</td>\n",
       "      <td>6229.514980</td>\n",
       "      <td>37.912758</td>\n",
       "      <td>-593.748320</td>\n",
       "      <td>15712.757700</td>\n",
       "    </tr>\n",
       "    <tr>\n",
       "      <th>std</th>\n",
       "      <td>102938.558112</td>\n",
       "      <td>532265.728552</td>\n",
       "      <td>795.164928</td>\n",
       "      <td>36.544428</td>\n",
       "      <td>4994.219837</td>\n",
       "      <td>714.010626</td>\n",
       "      <td>206031.606207</td>\n",
       "      <td>0.096224</td>\n",
       "      <td>1149811.343980</td>\n",
       "      <td>677401.130952</td>\n",
       "      <td>45032.031476</td>\n",
       "      <td>5937.650035</td>\n",
       "      <td>720.747312</td>\n",
       "      <td>325826.949053</td>\n",
       "    </tr>\n",
       "    <tr>\n",
       "      <th>min</th>\n",
       "      <td>100001.000000</td>\n",
       "      <td>5000000.000000</td>\n",
       "      <td>-2922.000000</td>\n",
       "      <td>0.000000</td>\n",
       "      <td>-42060.000000</td>\n",
       "      <td>-42023.000000</td>\n",
       "      <td>0.000000</td>\n",
       "      <td>0.000000</td>\n",
       "      <td>0.000000</td>\n",
       "      <td>-4705600.320000</td>\n",
       "      <td>-586406.115000</td>\n",
       "      <td>0.000000</td>\n",
       "      <td>-41947.000000</td>\n",
       "      <td>0.000000</td>\n",
       "    </tr>\n",
       "    <tr>\n",
       "      <th>25%</th>\n",
       "      <td>188866.750000</td>\n",
       "      <td>5463953.750000</td>\n",
       "      <td>-1666.000000</td>\n",
       "      <td>0.000000</td>\n",
       "      <td>-1138.000000</td>\n",
       "      <td>-1489.000000</td>\n",
       "      <td>0.000000</td>\n",
       "      <td>0.000000</td>\n",
       "      <td>51300.000000</td>\n",
       "      <td>0.000000</td>\n",
       "      <td>0.000000</td>\n",
       "      <td>0.000000</td>\n",
       "      <td>-908.000000</td>\n",
       "      <td>0.000000</td>\n",
       "    </tr>\n",
       "    <tr>\n",
       "      <th>50%</th>\n",
       "      <td>278055.000000</td>\n",
       "      <td>5926303.500000</td>\n",
       "      <td>-987.000000</td>\n",
       "      <td>0.000000</td>\n",
       "      <td>-330.000000</td>\n",
       "      <td>-897.000000</td>\n",
       "      <td>0.000000</td>\n",
       "      <td>0.000000</td>\n",
       "      <td>125518.500000</td>\n",
       "      <td>0.000000</td>\n",
       "      <td>0.000000</td>\n",
       "      <td>0.000000</td>\n",
       "      <td>-395.000000</td>\n",
       "      <td>0.000000</td>\n",
       "    </tr>\n",
       "    <tr>\n",
       "      <th>75%</th>\n",
       "      <td>367426.000000</td>\n",
       "      <td>6385681.250000</td>\n",
       "      <td>-474.000000</td>\n",
       "      <td>0.000000</td>\n",
       "      <td>474.000000</td>\n",
       "      <td>-425.000000</td>\n",
       "      <td>0.000000</td>\n",
       "      <td>0.000000</td>\n",
       "      <td>315000.000000</td>\n",
       "      <td>40153.500000</td>\n",
       "      <td>0.000000</td>\n",
       "      <td>0.000000</td>\n",
       "      <td>-33.000000</td>\n",
       "      <td>13500.000000</td>\n",
       "    </tr>\n",
       "    <tr>\n",
       "      <th>max</th>\n",
       "      <td>456255.000000</td>\n",
       "      <td>6843457.000000</td>\n",
       "      <td>0.000000</td>\n",
       "      <td>2792.000000</td>\n",
       "      <td>31199.000000</td>\n",
       "      <td>0.000000</td>\n",
       "      <td>115987185.000000</td>\n",
       "      <td>9.000000</td>\n",
       "      <td>585000000.000000</td>\n",
       "      <td>170100000.000000</td>\n",
       "      <td>4705600.320000</td>\n",
       "      <td>3756681.000000</td>\n",
       "      <td>372.000000</td>\n",
       "      <td>118453423.500000</td>\n",
       "    </tr>\n",
       "  </tbody>\n",
       "</table>\n",
       "</div>"
      ],
      "text/plain": [
       "           SK_ID_CURR    SK_ID_BUREAU     DAYS_CREDIT CREDIT_DAY_OVERDUE  \\\n",
       "count  1716428.000000  1716428.000000  1716428.000000     1716428.000000   \n",
       "mean    278214.933645  5924434.489032    -1142.107685           0.818167   \n",
       "std     102938.558112   532265.728552      795.164928          36.544428   \n",
       "min     100001.000000  5000000.000000    -2922.000000           0.000000   \n",
       "25%     188866.750000  5463953.750000    -1666.000000           0.000000   \n",
       "50%     278055.000000  5926303.500000     -987.000000           0.000000   \n",
       "75%     367426.000000  6385681.250000     -474.000000           0.000000   \n",
       "max     456255.000000  6843457.000000        0.000000        2792.000000   \n",
       "\n",
       "      DAYS_CREDIT_ENDDATE DAYS_ENDDATE_FACT AMT_CREDIT_MAX_OVERDUE  \\\n",
       "count      1610875.000000    1082775.000000          591940.000000   \n",
       "mean           510.517362      -1017.437148            3825.417661   \n",
       "std           4994.219837        714.010626          206031.606207   \n",
       "min         -42060.000000     -42023.000000               0.000000   \n",
       "25%          -1138.000000      -1489.000000               0.000000   \n",
       "50%           -330.000000       -897.000000               0.000000   \n",
       "75%            474.000000       -425.000000               0.000000   \n",
       "max          31199.000000          0.000000       115987185.000000   \n",
       "\n",
       "      CNT_CREDIT_PROLONG    AMT_CREDIT_SUM AMT_CREDIT_SUM_DEBT  \\\n",
       "count     1716428.000000    1716415.000000      1458759.000000   \n",
       "mean            0.006410     354994.591918       137085.119952   \n",
       "std             0.096224    1149811.343980       677401.130952   \n",
       "min             0.000000          0.000000     -4705600.320000   \n",
       "25%             0.000000      51300.000000            0.000000   \n",
       "50%             0.000000     125518.500000            0.000000   \n",
       "75%             0.000000     315000.000000        40153.500000   \n",
       "max             9.000000  585000000.000000    170100000.000000   \n",
       "\n",
       "      AMT_CREDIT_SUM_LIMIT AMT_CREDIT_SUM_OVERDUE DAYS_CREDIT_UPDATE  \\\n",
       "count       1124648.000000         1716428.000000     1716428.000000   \n",
       "mean           6229.514980              37.912758        -593.748320   \n",
       "std           45032.031476            5937.650035         720.747312   \n",
       "min         -586406.115000               0.000000      -41947.000000   \n",
       "25%               0.000000               0.000000        -908.000000   \n",
       "50%               0.000000               0.000000        -395.000000   \n",
       "75%               0.000000               0.000000         -33.000000   \n",
       "max         4705600.320000         3756681.000000         372.000000   \n",
       "\n",
       "            AMT_ANNUITY  \n",
       "count     489637.000000  \n",
       "mean       15712.757700  \n",
       "std       325826.949053  \n",
       "min            0.000000  \n",
       "25%            0.000000  \n",
       "50%            0.000000  \n",
       "75%        13500.000000  \n",
       "max    118453423.500000  "
      ]
     },
     "execution_count": 12,
     "metadata": {},
     "output_type": "execute_result"
    }
   ],
   "source": [
    "bureau.describe().apply(lambda s:s.apply(lambda x: format(x,'f')))\n"
   ]
  },
  {
   "cell_type": "code",
   "execution_count": 13,
   "id": "bde8609a",
   "metadata": {},
   "outputs": [
    {
     "data": {
      "text/plain": [
       "SK_ID_CURR                    307511\n",
       "TARGET                             2\n",
       "NAME_CONTRACT_TYPE                 2\n",
       "CODE_GENDER                        3\n",
       "FLAG_OWN_CAR                       2\n",
       "                               ...  \n",
       "AMT_REQ_CREDIT_BUREAU_DAY          9\n",
       "AMT_REQ_CREDIT_BUREAU_WEEK         9\n",
       "AMT_REQ_CREDIT_BUREAU_MON         24\n",
       "AMT_REQ_CREDIT_BUREAU_QRT         11\n",
       "AMT_REQ_CREDIT_BUREAU_YEAR        25\n",
       "Length: 122, dtype: int64"
      ]
     },
     "execution_count": 13,
     "metadata": {},
     "output_type": "execute_result"
    }
   ],
   "source": [
    "application_train.nunique()\n",
    "# application_train data has : 307511 row's all unique Client ID's 'SK_ID_CURR'\n"
   ]
  },
  {
   "cell_type": "code",
   "execution_count": 14,
   "id": "26afbe63",
   "metadata": {},
   "outputs": [],
   "source": [
    "# keep original tables and create working copies \n",
    "df_application_train = application_train\n",
    "df_bureau = bureau\n"
   ]
  },
  {
   "cell_type": "code",
   "execution_count": 15,
   "id": "e5764ab1",
   "metadata": {},
   "outputs": [],
   "source": [
    "# Create list of all dataframes I will be working on\n",
    "df_All= [df_application_train,\n",
    "         df_bureau]\n"
   ]
  },
  {
   "cell_type": "code",
   "execution_count": 16,
   "id": "910b7b9e",
   "metadata": {},
   "outputs": [],
   "source": [
    "df_application_train.index.name = \"df_application_train\"\n",
    "df_bureau.index.name = \"df_bureau\"\n"
   ]
  },
  {
   "cell_type": "markdown",
   "id": "0655a3c0",
   "metadata": {},
   "source": [
    "# MERGING OUR TWO DATAFRAMES"
   ]
  },
  {
   "cell_type": "code",
   "execution_count": 17,
   "id": "0b7bc5d9",
   "metadata": {},
   "outputs": [],
   "source": [
    "### merge two dataframes\n",
    "\n",
    "df_merged_data = pd.merge(df_application_train,df_bureau, how='right',  left_on='SK_ID_CURR', right_on='SK_ID_CURR')\n",
    "\n",
    "### save as .csv file\n",
    "df_merged_data.to_csv('df_merged_data.csv')\n",
    "\n",
    "### load from .csv file to save computation time during testing\n",
    "#df_merged_data = pd.read_csv('df_merged_data.csv')\n"
   ]
  },
  {
   "cell_type": "code",
   "execution_count": 18,
   "id": "568aa20f",
   "metadata": {},
   "outputs": [
    {
     "data": {
      "text/plain": [
       "251103"
      ]
     },
     "execution_count": 18,
     "metadata": {},
     "output_type": "execute_result"
    }
   ],
   "source": [
    "df_merged_data.DAYS_BIRTH.isnull().sum()\n"
   ]
  },
  {
   "cell_type": "code",
   "execution_count": 19,
   "id": "cae3ae92",
   "metadata": {},
   "outputs": [
    {
     "data": {
      "text/plain": [
       "count    1.716428e+06\n",
       "mean     3.791276e+01\n",
       "std      5.937650e+03\n",
       "min      0.000000e+00\n",
       "25%      0.000000e+00\n",
       "50%      0.000000e+00\n",
       "75%      0.000000e+00\n",
       "max      3.756681e+06\n",
       "Name: AMT_CREDIT_SUM_OVERDUE, dtype: float64"
      ]
     },
     "execution_count": 19,
     "metadata": {},
     "output_type": "execute_result"
    }
   ],
   "source": [
    "df_merged_data.AMT_CREDIT_SUM_OVERDUE.describe()\n"
   ]
  },
  {
   "cell_type": "code",
   "execution_count": 7,
   "id": "2e80e29c",
   "metadata": {
    "scrolled": true
   },
   "outputs": [
    {
     "data": {
      "text/html": [
       "<div>\n",
       "<style scoped>\n",
       "    .dataframe tbody tr th:only-of-type {\n",
       "        vertical-align: middle;\n",
       "    }\n",
       "\n",
       "    .dataframe tbody tr th {\n",
       "        vertical-align: top;\n",
       "    }\n",
       "\n",
       "    .dataframe thead th {\n",
       "        text-align: right;\n",
       "    }\n",
       "</style>\n",
       "<table border=\"1\" class=\"dataframe\">\n",
       "  <thead>\n",
       "    <tr style=\"text-align: right;\">\n",
       "      <th></th>\n",
       "      <th>Unnamed: 0</th>\n",
       "      <th>SK_ID_CURR</th>\n",
       "      <th>TARGET</th>\n",
       "      <th>NAME_CONTRACT_TYPE</th>\n",
       "      <th>CODE_GENDER</th>\n",
       "      <th>FLAG_OWN_CAR</th>\n",
       "      <th>FLAG_OWN_REALTY</th>\n",
       "      <th>CNT_CHILDREN</th>\n",
       "      <th>AMT_INCOME_TOTAL</th>\n",
       "      <th>AMT_CREDIT</th>\n",
       "      <th>...</th>\n",
       "      <th>DAYS_ENDDATE_FACT</th>\n",
       "      <th>AMT_CREDIT_MAX_OVERDUE</th>\n",
       "      <th>CNT_CREDIT_PROLONG</th>\n",
       "      <th>AMT_CREDIT_SUM</th>\n",
       "      <th>AMT_CREDIT_SUM_DEBT</th>\n",
       "      <th>AMT_CREDIT_SUM_LIMIT</th>\n",
       "      <th>AMT_CREDIT_SUM_OVERDUE</th>\n",
       "      <th>CREDIT_TYPE</th>\n",
       "      <th>DAYS_CREDIT_UPDATE</th>\n",
       "      <th>AMT_ANNUITY_y</th>\n",
       "    </tr>\n",
       "  </thead>\n",
       "  <tbody>\n",
       "    <tr>\n",
       "      <th>0</th>\n",
       "      <td>0</td>\n",
       "      <td>215354</td>\n",
       "      <td>0.0</td>\n",
       "      <td>Cash loans</td>\n",
       "      <td>F</td>\n",
       "      <td>Y</td>\n",
       "      <td>N</td>\n",
       "      <td>0.0</td>\n",
       "      <td>270000.0</td>\n",
       "      <td>720000.0</td>\n",
       "      <td>...</td>\n",
       "      <td>-153.0</td>\n",
       "      <td>NaN</td>\n",
       "      <td>0</td>\n",
       "      <td>91323.0</td>\n",
       "      <td>0.0</td>\n",
       "      <td>NaN</td>\n",
       "      <td>0.0</td>\n",
       "      <td>Consumer credit</td>\n",
       "      <td>-131</td>\n",
       "      <td>NaN</td>\n",
       "    </tr>\n",
       "    <tr>\n",
       "      <th>1</th>\n",
       "      <td>1</td>\n",
       "      <td>215354</td>\n",
       "      <td>0.0</td>\n",
       "      <td>Cash loans</td>\n",
       "      <td>F</td>\n",
       "      <td>Y</td>\n",
       "      <td>N</td>\n",
       "      <td>0.0</td>\n",
       "      <td>270000.0</td>\n",
       "      <td>720000.0</td>\n",
       "      <td>...</td>\n",
       "      <td>NaN</td>\n",
       "      <td>NaN</td>\n",
       "      <td>0</td>\n",
       "      <td>225000.0</td>\n",
       "      <td>171342.0</td>\n",
       "      <td>NaN</td>\n",
       "      <td>0.0</td>\n",
       "      <td>Credit card</td>\n",
       "      <td>-20</td>\n",
       "      <td>NaN</td>\n",
       "    </tr>\n",
       "    <tr>\n",
       "      <th>2</th>\n",
       "      <td>2</td>\n",
       "      <td>215354</td>\n",
       "      <td>0.0</td>\n",
       "      <td>Cash loans</td>\n",
       "      <td>F</td>\n",
       "      <td>Y</td>\n",
       "      <td>N</td>\n",
       "      <td>0.0</td>\n",
       "      <td>270000.0</td>\n",
       "      <td>720000.0</td>\n",
       "      <td>...</td>\n",
       "      <td>NaN</td>\n",
       "      <td>NaN</td>\n",
       "      <td>0</td>\n",
       "      <td>464323.5</td>\n",
       "      <td>NaN</td>\n",
       "      <td>NaN</td>\n",
       "      <td>0.0</td>\n",
       "      <td>Consumer credit</td>\n",
       "      <td>-16</td>\n",
       "      <td>NaN</td>\n",
       "    </tr>\n",
       "    <tr>\n",
       "      <th>3</th>\n",
       "      <td>3</td>\n",
       "      <td>215354</td>\n",
       "      <td>0.0</td>\n",
       "      <td>Cash loans</td>\n",
       "      <td>F</td>\n",
       "      <td>Y</td>\n",
       "      <td>N</td>\n",
       "      <td>0.0</td>\n",
       "      <td>270000.0</td>\n",
       "      <td>720000.0</td>\n",
       "      <td>...</td>\n",
       "      <td>NaN</td>\n",
       "      <td>NaN</td>\n",
       "      <td>0</td>\n",
       "      <td>90000.0</td>\n",
       "      <td>NaN</td>\n",
       "      <td>NaN</td>\n",
       "      <td>0.0</td>\n",
       "      <td>Credit card</td>\n",
       "      <td>-16</td>\n",
       "      <td>NaN</td>\n",
       "    </tr>\n",
       "    <tr>\n",
       "      <th>4</th>\n",
       "      <td>4</td>\n",
       "      <td>215354</td>\n",
       "      <td>0.0</td>\n",
       "      <td>Cash loans</td>\n",
       "      <td>F</td>\n",
       "      <td>Y</td>\n",
       "      <td>N</td>\n",
       "      <td>0.0</td>\n",
       "      <td>270000.0</td>\n",
       "      <td>720000.0</td>\n",
       "      <td>...</td>\n",
       "      <td>NaN</td>\n",
       "      <td>77674.5</td>\n",
       "      <td>0</td>\n",
       "      <td>2700000.0</td>\n",
       "      <td>NaN</td>\n",
       "      <td>NaN</td>\n",
       "      <td>0.0</td>\n",
       "      <td>Consumer credit</td>\n",
       "      <td>-21</td>\n",
       "      <td>NaN</td>\n",
       "    </tr>\n",
       "  </tbody>\n",
       "</table>\n",
       "<p>5 rows × 139 columns</p>\n",
       "</div>"
      ],
      "text/plain": [
       "   Unnamed: 0  SK_ID_CURR  TARGET NAME_CONTRACT_TYPE CODE_GENDER FLAG_OWN_CAR  \\\n",
       "0           0      215354     0.0         Cash loans           F            Y   \n",
       "1           1      215354     0.0         Cash loans           F            Y   \n",
       "2           2      215354     0.0         Cash loans           F            Y   \n",
       "3           3      215354     0.0         Cash loans           F            Y   \n",
       "4           4      215354     0.0         Cash loans           F            Y   \n",
       "\n",
       "  FLAG_OWN_REALTY  CNT_CHILDREN  AMT_INCOME_TOTAL  AMT_CREDIT  ...  \\\n",
       "0               N           0.0          270000.0    720000.0  ...   \n",
       "1               N           0.0          270000.0    720000.0  ...   \n",
       "2               N           0.0          270000.0    720000.0  ...   \n",
       "3               N           0.0          270000.0    720000.0  ...   \n",
       "4               N           0.0          270000.0    720000.0  ...   \n",
       "\n",
       "   DAYS_ENDDATE_FACT  AMT_CREDIT_MAX_OVERDUE CNT_CREDIT_PROLONG  \\\n",
       "0             -153.0                     NaN                  0   \n",
       "1                NaN                     NaN                  0   \n",
       "2                NaN                     NaN                  0   \n",
       "3                NaN                     NaN                  0   \n",
       "4                NaN                 77674.5                  0   \n",
       "\n",
       "  AMT_CREDIT_SUM AMT_CREDIT_SUM_DEBT AMT_CREDIT_SUM_LIMIT  \\\n",
       "0        91323.0                 0.0                  NaN   \n",
       "1       225000.0            171342.0                  NaN   \n",
       "2       464323.5                 NaN                  NaN   \n",
       "3        90000.0                 NaN                  NaN   \n",
       "4      2700000.0                 NaN                  NaN   \n",
       "\n",
       "  AMT_CREDIT_SUM_OVERDUE      CREDIT_TYPE  DAYS_CREDIT_UPDATE  AMT_ANNUITY_y  \n",
       "0                    0.0  Consumer credit                -131            NaN  \n",
       "1                    0.0      Credit card                 -20            NaN  \n",
       "2                    0.0  Consumer credit                 -16            NaN  \n",
       "3                    0.0      Credit card                 -16            NaN  \n",
       "4                    0.0  Consumer credit                 -21            NaN  \n",
       "\n",
       "[5 rows x 139 columns]"
      ]
     },
     "execution_count": 7,
     "metadata": {},
     "output_type": "execute_result"
    }
   ],
   "source": [
    "df_merged_data.head()\n"
   ]
  },
  {
   "cell_type": "code",
   "execution_count": null,
   "id": "d278b8a9",
   "metadata": {},
   "outputs": [],
   "source": []
  },
  {
   "cell_type": "markdown",
   "id": "97255c1d",
   "metadata": {},
   "source": [
    "# Dealing with Data Errors Values\n"
   ]
  },
  {
   "cell_type": "code",
   "execution_count": 20,
   "id": "c29415db",
   "metadata": {},
   "outputs": [],
   "source": [
    " # 4 people with XNA code gender\n",
    "df_merged_data = df_merged_data[df_merged_data['CODE_GENDER'] != 'XNA'] \n"
   ]
  },
  {
   "cell_type": "code",
   "execution_count": 21,
   "id": "f7a6c0ba",
   "metadata": {},
   "outputs": [
    {
     "name": "stdout",
     "output_type": "stream",
     "text": [
      "117000000.0\n",
      "9000000.0\n"
     ]
    }
   ],
   "source": [
    "# Remove 117 000 000 Outlier in Amt Income column\n",
    "df_merged_data = df_merged_data[df_merged_data['AMT_INCOME_TOTAL'] < 20000000] \n",
    "print(df_application_train['AMT_INCOME_TOTAL'].max())\n",
    "print(df_merged_data['AMT_INCOME_TOTAL'].max())\n"
   ]
  },
  {
   "cell_type": "code",
   "execution_count": 22,
   "id": "cf7d530f",
   "metadata": {},
   "outputs": [],
   "source": [
    "# Remove Outlier in DAYS_EMPLOYED column\n",
    "df_merged_data['DAYS_EMPLOYED'].replace(365243, np.nan, inplace=True)\n"
   ]
  },
  {
   "cell_type": "code",
   "execution_count": null,
   "id": "2a6e82ca",
   "metadata": {},
   "outputs": [],
   "source": []
  },
  {
   "cell_type": "markdown",
   "id": "3fb52681",
   "metadata": {},
   "source": [
    "# REMOVING COLUMNS WITH MISSING VALUES >60%"
   ]
  },
  {
   "cell_type": "code",
   "execution_count": 23,
   "id": "b2846a56",
   "metadata": {},
   "outputs": [],
   "source": [
    "# Function to calculate missing values by column# Funct \n",
    "def missing_values_table(df):\n",
    "        # Total missing values\n",
    "        mis_val = df.isnull().sum()\n",
    "        \n",
    "        # Percentage of missing values\n",
    "        mis_val_percent = 100 * df.isnull().sum() / len(df)\n",
    "        \n",
    "        # Make a table with the results\n",
    "        mis_val_table = pd.concat([mis_val, mis_val_percent], axis=1)\n",
    "        \n",
    "        # Rename the columns\n",
    "        mis_val_table_ren_columns = mis_val_table.rename(\n",
    "        columns = {0 : 'Missing Values', 1 : '% of Total Values'})\n",
    "        \n",
    "        # Sort the table by percentage of missing descending\n",
    "        mis_val_table_ren_columns = mis_val_table_ren_columns[\n",
    "            mis_val_table_ren_columns.iloc[:,1] != 0].sort_values(\n",
    "        '% of Total Values', ascending=False).round(1)\n",
    "        \n",
    "        # Print some summary information\n",
    "        print (\"Your selected dataframe has \" + str(df.shape[1]) + \" columns.\\n\"      \n",
    "            \"There are \" + str(mis_val_table_ren_columns.shape[0]) +\n",
    "              \" columns that have missing values.\")\n",
    "        \n",
    "        # Return the dataframe with missing information\n",
    "        return mis_val_table_ren_columns"
   ]
  },
  {
   "cell_type": "code",
   "execution_count": 24,
   "id": "fc42b39a",
   "metadata": {},
   "outputs": [],
   "source": [
    "def missing_data_column_names(df):\n",
    "    # Returns column names with missing data  \n",
    "    # Total missing values\n",
    "    mis_val = df.isnull().sum()\n",
    "\n",
    "    # Percentage of missing values\n",
    "    mis_val_percent = 100 * df.isnull().sum() / len(df)\n",
    "    \n",
    "    # Make a table with the results\n",
    "    mis_val_table = pd.concat([mis_val, mis_val_percent], axis=1)\n",
    "\n",
    "    # Rename the column header\n",
    "    mis_val_table_ren_columns = mis_val_table.rename(columns = {0 : 'Missing Values', 1 : '% of Total Values'})\n",
    "        \n",
    "    delete_columns =  mis_val_table_ren_columns[mis_val_table_ren_columns['% of Total Values'].values > 40]\n",
    "    col_names = delete_columns.index\n",
    "    return col_names"
   ]
  },
  {
   "cell_type": "code",
   "execution_count": 25,
   "id": "5d3bdea5",
   "metadata": {},
   "outputs": [
    {
     "name": "stdout",
     "output_type": "stream",
     "text": [
      "Your selected dataframe has 139 columns.\n",
      "There are 68 columns that have missing values.\n"
     ]
    }
   ],
   "source": [
    "miss = missing_values_table(df_merged_data)\n"
   ]
  },
  {
   "cell_type": "code",
   "execution_count": 26,
   "id": "26860a0a",
   "metadata": {},
   "outputs": [],
   "source": [
    "miss.to_csv('missing.csv')\n"
   ]
  },
  {
   "cell_type": "code",
   "execution_count": 26,
   "id": "f0c448d0",
   "metadata": {},
   "outputs": [
    {
     "data": {
      "text/plain": [
       "Index(['OWN_CAR_AGE', 'EXT_SOURCE_1', 'APARTMENTS_AVG', 'BASEMENTAREA_AVG',\n",
       "       'YEARS_BEGINEXPLUATATION_AVG', 'YEARS_BUILD_AVG', 'COMMONAREA_AVG',\n",
       "       'ELEVATORS_AVG', 'ENTRANCES_AVG', 'FLOORSMAX_AVG', 'FLOORSMIN_AVG',\n",
       "       'LANDAREA_AVG', 'LIVINGAPARTMENTS_AVG', 'LIVINGAREA_AVG',\n",
       "       'NONLIVINGAPARTMENTS_AVG', 'NONLIVINGAREA_AVG', 'APARTMENTS_MODE',\n",
       "       'BASEMENTAREA_MODE', 'YEARS_BEGINEXPLUATATION_MODE', 'YEARS_BUILD_MODE',\n",
       "       'COMMONAREA_MODE', 'ELEVATORS_MODE', 'ENTRANCES_MODE', 'FLOORSMAX_MODE',\n",
       "       'FLOORSMIN_MODE', 'LANDAREA_MODE', 'LIVINGAPARTMENTS_MODE',\n",
       "       'LIVINGAREA_MODE', 'NONLIVINGAPARTMENTS_MODE', 'NONLIVINGAREA_MODE',\n",
       "       'APARTMENTS_MEDI', 'BASEMENTAREA_MEDI', 'YEARS_BEGINEXPLUATATION_MEDI',\n",
       "       'YEARS_BUILD_MEDI', 'COMMONAREA_MEDI', 'ELEVATORS_MEDI',\n",
       "       'ENTRANCES_MEDI', 'FLOORSMAX_MEDI', 'FLOORSMIN_MEDI', 'LANDAREA_MEDI',\n",
       "       'LIVINGAPARTMENTS_MEDI', 'LIVINGAREA_MEDI', 'NONLIVINGAPARTMENTS_MEDI',\n",
       "       'NONLIVINGAREA_MEDI', 'FONDKAPREMONT_MODE', 'HOUSETYPE_MODE',\n",
       "       'TOTALAREA_MODE', 'WALLSMATERIAL_MODE', 'EMERGENCYSTATE_MODE',\n",
       "       'AMT_CREDIT_MAX_OVERDUE', 'AMT_ANNUITY_y'],\n",
       "      dtype='object')"
      ]
     },
     "execution_count": 26,
     "metadata": {},
     "output_type": "execute_result"
    }
   ],
   "source": [
    "# Delete columns with missing values as greater than 40% missing  \n",
    "missing_columns = missing_data_column_names(df_merged_data)\n",
    "missing_columns\n"
   ]
  },
  {
   "cell_type": "code",
   "execution_count": 27,
   "id": "6becd751",
   "metadata": {},
   "outputs": [
    {
     "name": "stdout",
     "output_type": "stream",
     "text": [
      "Done\n"
     ]
    }
   ],
   "source": [
    "# Apply column REMOVE with >40% missing data\n",
    "# Delete columns with missing values greater than 40% missing\n",
    "\n",
    "df_merged_data.drop(missing_columns, axis = 1, inplace = True)\n",
    "print(\"Done\")"
   ]
  },
  {
   "cell_type": "code",
   "execution_count": 28,
   "id": "639c3add",
   "metadata": {
    "scrolled": true
   },
   "outputs": [
    {
     "data": {
      "text/plain": [
       "(1465287, 88)"
      ]
     },
     "execution_count": 28,
     "metadata": {},
     "output_type": "execute_result"
    }
   ],
   "source": [
    "df_merged_data.shape\n"
   ]
  },
  {
   "cell_type": "markdown",
   "id": "2f4936ee",
   "metadata": {},
   "source": [
    "# Dataframe had 140 columns\n",
    "\n",
    "# Now 89 columns"
   ]
  },
  {
   "cell_type": "code",
   "execution_count": 29,
   "id": "83803ed4",
   "metadata": {
    "scrolled": true
   },
   "outputs": [
    {
     "name": "stdout",
     "output_type": "stream",
     "text": [
      "Your selected dataframe has 88 columns.\n",
      "There are 17 columns that have missing values.\n"
     ]
    },
    {
     "data": {
      "text/html": [
       "<div>\n",
       "<style scoped>\n",
       "    .dataframe tbody tr th:only-of-type {\n",
       "        vertical-align: middle;\n",
       "    }\n",
       "\n",
       "    .dataframe tbody tr th {\n",
       "        vertical-align: top;\n",
       "    }\n",
       "\n",
       "    .dataframe thead th {\n",
       "        text-align: right;\n",
       "    }\n",
       "</style>\n",
       "<table border=\"1\" class=\"dataframe\">\n",
       "  <thead>\n",
       "    <tr style=\"text-align: right;\">\n",
       "      <th></th>\n",
       "      <th>Missing Values</th>\n",
       "      <th>% of Total Values</th>\n",
       "    </tr>\n",
       "  </thead>\n",
       "  <tbody>\n",
       "    <tr>\n",
       "      <th>DAYS_ENDDATE_FACT</th>\n",
       "      <td>544656</td>\n",
       "      <td>37.2</td>\n",
       "    </tr>\n",
       "    <tr>\n",
       "      <th>AMT_CREDIT_SUM_LIMIT</th>\n",
       "      <td>489653</td>\n",
       "      <td>33.4</td>\n",
       "    </tr>\n",
       "    <tr>\n",
       "      <th>OCCUPATION_TYPE</th>\n",
       "      <td>455655</td>\n",
       "      <td>31.1</td>\n",
       "    </tr>\n",
       "    <tr>\n",
       "      <th>DAYS_EMPLOYED</th>\n",
       "      <td>256689</td>\n",
       "      <td>17.5</td>\n",
       "    </tr>\n",
       "    <tr>\n",
       "      <th>AMT_CREDIT_SUM_DEBT</th>\n",
       "      <td>223088</td>\n",
       "      <td>15.2</td>\n",
       "    </tr>\n",
       "    <tr>\n",
       "      <th>DAYS_CREDIT_ENDDATE</th>\n",
       "      <td>89095</td>\n",
       "      <td>6.1</td>\n",
       "    </tr>\n",
       "    <tr>\n",
       "      <th>EXT_SOURCE_3</th>\n",
       "      <td>44915</td>\n",
       "      <td>3.1</td>\n",
       "    </tr>\n",
       "    <tr>\n",
       "      <th>NAME_TYPE_SUITE</th>\n",
       "      <td>5720</td>\n",
       "      <td>0.4</td>\n",
       "    </tr>\n",
       "    <tr>\n",
       "      <th>OBS_60_CNT_SOCIAL_CIRCLE</th>\n",
       "      <td>3925</td>\n",
       "      <td>0.3</td>\n",
       "    </tr>\n",
       "    <tr>\n",
       "      <th>DEF_60_CNT_SOCIAL_CIRCLE</th>\n",
       "      <td>3925</td>\n",
       "      <td>0.3</td>\n",
       "    </tr>\n",
       "    <tr>\n",
       "      <th>OBS_30_CNT_SOCIAL_CIRCLE</th>\n",
       "      <td>3925</td>\n",
       "      <td>0.3</td>\n",
       "    </tr>\n",
       "    <tr>\n",
       "      <th>DEF_30_CNT_SOCIAL_CIRCLE</th>\n",
       "      <td>3925</td>\n",
       "      <td>0.3</td>\n",
       "    </tr>\n",
       "    <tr>\n",
       "      <th>EXT_SOURCE_2</th>\n",
       "      <td>2277</td>\n",
       "      <td>0.2</td>\n",
       "    </tr>\n",
       "    <tr>\n",
       "      <th>AMT_GOODS_PRICE</th>\n",
       "      <td>1127</td>\n",
       "      <td>0.1</td>\n",
       "    </tr>\n",
       "    <tr>\n",
       "      <th>AMT_ANNUITY_x</th>\n",
       "      <td>42</td>\n",
       "      <td>0.0</td>\n",
       "    </tr>\n",
       "    <tr>\n",
       "      <th>AMT_CREDIT_SUM</th>\n",
       "      <td>3</td>\n",
       "      <td>0.0</td>\n",
       "    </tr>\n",
       "    <tr>\n",
       "      <th>CNT_FAM_MEMBERS</th>\n",
       "      <td>1</td>\n",
       "      <td>0.0</td>\n",
       "    </tr>\n",
       "  </tbody>\n",
       "</table>\n",
       "</div>"
      ],
      "text/plain": [
       "                          Missing Values  % of Total Values\n",
       "DAYS_ENDDATE_FACT                 544656               37.2\n",
       "AMT_CREDIT_SUM_LIMIT              489653               33.4\n",
       "OCCUPATION_TYPE                   455655               31.1\n",
       "DAYS_EMPLOYED                     256689               17.5\n",
       "AMT_CREDIT_SUM_DEBT               223088               15.2\n",
       "DAYS_CREDIT_ENDDATE                89095                6.1\n",
       "EXT_SOURCE_3                       44915                3.1\n",
       "NAME_TYPE_SUITE                     5720                0.4\n",
       "OBS_60_CNT_SOCIAL_CIRCLE            3925                0.3\n",
       "DEF_60_CNT_SOCIAL_CIRCLE            3925                0.3\n",
       "OBS_30_CNT_SOCIAL_CIRCLE            3925                0.3\n",
       "DEF_30_CNT_SOCIAL_CIRCLE            3925                0.3\n",
       "EXT_SOURCE_2                        2277                0.2\n",
       "AMT_GOODS_PRICE                     1127                0.1\n",
       "AMT_ANNUITY_x                         42                0.0\n",
       "AMT_CREDIT_SUM                         3                0.0\n",
       "CNT_FAM_MEMBERS                        1                0.0"
      ]
     },
     "execution_count": 29,
     "metadata": {},
     "output_type": "execute_result"
    }
   ],
   "source": [
    "missing_values_table(df_merged_data)\n"
   ]
  },
  {
   "cell_type": "code",
   "execution_count": 34,
   "id": "cabe29e8",
   "metadata": {
    "scrolled": true
   },
   "outputs": [
    {
     "name": "stdout",
     "output_type": "stream",
     "text": [
      "\n",
      "Most Positive Correlations:\n",
      " DAYS_CREDIT        0.061556\n",
      "DAYS_BIRTH         0.066888\n",
      "TARGET             1.000000\n",
      "FLAG_MOBIL              NaN\n",
      "FLAG_DOCUMENT_2         NaN\n",
      "Name: TARGET, dtype: float64\n",
      "\n",
      "Most Negative Correlations:\n",
      " EXT_SOURCE_3      -0.184276\n",
      "EXT_SOURCE_2      -0.146115\n",
      "AGE_YEARS         -0.066888\n",
      "DAYS_EMPLOYED     -0.032887\n",
      "AMT_GOODS_PRICE   -0.030615\n",
      "Name: TARGET, dtype: float64\n"
     ]
    }
   ],
   "source": [
    "# Find correlations with the target and sort\n",
    "\n",
    "correlations = df_merged_data.corr()['TARGET'].sort_values()\n",
    "\n",
    "# Display correlations\n",
    "        \n",
    "print('\\nMost Positive Correlations:\\n', correlations.tail(5))\n",
    "print('\\nMost Negative Correlations:\\n', correlations.head(5))    \n"
   ]
  },
  {
   "cell_type": "markdown",
   "id": "380379c1",
   "metadata": {},
   "source": [
    "## Delete Columns Not Required"
   ]
  },
  {
   "cell_type": "code",
   "execution_count": 30,
   "id": "880041fd",
   "metadata": {},
   "outputs": [
    {
     "name": "stdout",
     "output_type": "stream",
     "text": [
      "Done\n"
     ]
    }
   ],
   "source": [
    "# delete using a loop\n",
    "cols_to_delete = ['FLAG_DOCUMENT_2',\n",
    "                    'FLAG_DOCUMENT_3',\n",
    "                    'FLAG_DOCUMENT_4',\n",
    "                    'FLAG_DOCUMENT_5',\n",
    "                    'FLAG_DOCUMENT_6',\n",
    "                    'FLAG_DOCUMENT_7',\n",
    "                    'FLAG_DOCUMENT_8',\n",
    "                    'FLAG_DOCUMENT_9',\n",
    "                    'FLAG_DOCUMENT_10',\n",
    "                    'FLAG_DOCUMENT_11',\n",
    "                    'FLAG_DOCUMENT_12',\n",
    "                    'FLAG_DOCUMENT_13',\n",
    "                    'FLAG_DOCUMENT_14',\n",
    "                    'FLAG_DOCUMENT_15',\n",
    "                    'FLAG_DOCUMENT_16',\n",
    "                    'FLAG_DOCUMENT_17',\n",
    "                    'FLAG_DOCUMENT_18',\n",
    "                    'FLAG_DOCUMENT_19',\n",
    "                    'FLAG_DOCUMENT_20',\n",
    "                    'FLAG_DOCUMENT_21',]\n",
    "\n",
    "for col in df_merged_data.columns:\n",
    "    if col in cols_to_delete:\n",
    "        del df_merged_data[col]\n",
    "print('Done')"
   ]
  },
  {
   "cell_type": "code",
   "execution_count": 31,
   "id": "2ae04f72",
   "metadata": {},
   "outputs": [
    {
     "data": {
      "text/plain": [
       "(1465287, 68)"
      ]
     },
     "execution_count": 31,
     "metadata": {},
     "output_type": "execute_result"
    }
   ],
   "source": [
    "df_merged_data.shape\n"
   ]
  },
  {
   "cell_type": "markdown",
   "id": "55722f23",
   "metadata": {},
   "source": [
    "# AGE column: We can assign a mean or Median value for age instead of deleting  na rows"
   ]
  },
  {
   "cell_type": "code",
   "execution_count": 33,
   "id": "4fa9af61",
   "metadata": {},
   "outputs": [],
   "source": [
    "#Convert age data from days to years\n",
    "# NEW FEATURE: 'AGE_YEARS'\n",
    "df_merged_data['AGE_YEARS'] = abs((df_merged_data['DAYS_BIRTH']) / 365) #Create new column\n"
   ]
  },
  {
   "cell_type": "code",
   "execution_count": 34,
   "id": "ab02f2ce",
   "metadata": {},
   "outputs": [
    {
     "data": {
      "text/plain": [
       "0"
      ]
     },
     "execution_count": 34,
     "metadata": {},
     "output_type": "execute_result"
    }
   ],
   "source": [
    "df_merged_data.AGE_YEARS.isnull().sum()\n"
   ]
  },
  {
   "cell_type": "markdown",
   "id": "669819cd",
   "metadata": {},
   "source": [
    "New Feature: Age in years\n",
    "From previous data exploration the borrowers age was found to require preprocessing as it was listed in days and not years. A new column converting days to years 'AGE_YEARS' was created. \n"
   ]
  },
  {
   "cell_type": "code",
   "execution_count": 35,
   "id": "f910f347",
   "metadata": {
    "scrolled": true
   },
   "outputs": [
    {
     "data": {
      "text/plain": [
       "0"
      ]
     },
     "execution_count": 35,
     "metadata": {},
     "output_type": "execute_result"
    }
   ],
   "source": [
    "#Use the mean of age\n",
    "age_mean = df_merged_data.AGE_YEARS.mean()\n",
    "age_mean\n",
    "# Fill the missing values with mean value of month in data.\n",
    "df_merged_data['AGE_YEARS'].fillna(age_mean, inplace = True)\n",
    "df_merged_data.AGE_YEARS.isnull().sum()\n"
   ]
  },
  {
   "cell_type": "markdown",
   "id": "d12913ac",
   "metadata": {},
   "source": [
    "## Feature: Create Age Group Buckets"
   ]
  },
  {
   "cell_type": "code",
   "execution_count": 36,
   "id": "b419abd2",
   "metadata": {},
   "outputs": [],
   "source": [
    "# here I define the threshhold or our age groups\n",
    "age_groups = [0, 11, 17, 25, 35, 45, 55, 65, 100]\n",
    "\n",
    "# we give each of them a label\n",
    "age_group_names = ['<11', '11-17', '17-25', '25-35', '35-45', '45-55', '55-65', '>65']\n"
   ]
  },
  {
   "cell_type": "code",
   "execution_count": 37,
   "id": "da1e1d70",
   "metadata": {
    "scrolled": true
   },
   "outputs": [],
   "source": [
    "df_merged_data['AGE_GROUP'] = pd.cut(df_merged_data['AGE_YEARS'], bins=age_groups, labels=age_group_names)\n"
   ]
  },
  {
   "cell_type": "markdown",
   "id": "f1684671",
   "metadata": {},
   "source": [
    "we create a new category column, that gives the person’s age group\n",
    "using the pandas.cut method with the bins and the names parameters"
   ]
  },
  {
   "cell_type": "code",
   "execution_count": 25,
   "id": "47a0d694",
   "metadata": {},
   "outputs": [
    {
     "data": {
      "text/plain": [
       "0          45-55\n",
       "1          45-55\n",
       "2          45-55\n",
       "3          45-55\n",
       "4          45-55\n",
       "           ...  \n",
       "1716423    45-55\n",
       "1716424    55-65\n",
       "1716425    55-65\n",
       "1716426    55-65\n",
       "1716427    55-65\n",
       "Name: AGE_GROUP, Length: 1465287, dtype: category\n",
       "Categories (8, object): ['<11' < '11-17' < '17-25' < '25-35' < '35-45' < '45-55' < '55-65' < '>65']"
      ]
     },
     "execution_count": 25,
     "metadata": {},
     "output_type": "execute_result"
    }
   ],
   "source": [
    "df_merged_data['AGE_GROUP']\n"
   ]
  },
  {
   "cell_type": "markdown",
   "id": "655290bc",
   "metadata": {},
   "source": [
    "# Normalization AGE- Scaling to a Range "
   ]
  },
  {
   "cell_type": "code",
   "execution_count": 54,
   "id": "353b23c1",
   "metadata": {
    "scrolled": false
   },
   "outputs": [
    {
     "data": {
      "text/plain": [
       "count    1.716394e+06\n",
       "mean    -2.016728e+01\n",
       "std      1.527799e-01\n",
       "min     -2.051781e+01\n",
       "25%     -2.027976e+01\n",
       "50%     -2.016728e+01\n",
       "75%     -2.005358e+01\n",
       "max     -1.981498e+01\n",
       "Name: AGE_YEARS_SCALED, dtype: float64"
      ]
     },
     "execution_count": 54,
     "metadata": {},
     "output_type": "execute_result"
    }
   ],
   "source": [
    "  \n",
    "# apply normalization techniques to Column df_merged_data['AGE_YEARS']\n",
    "\n",
    "df_merged_data['AGE_YEARS_SCALED'] = ((df_merged_data['AGE_YEARS'] - df_merged_data['AGE_YEARS'].min()) / df_merged_data['AGE_YEARS'].max() - df_merged_data['AGE_YEARS'].min())    \n",
    "  \n",
    "# view normalized data\n",
    "df_merged_data['AGE_YEARS_SCALED'].describe()"
   ]
  },
  {
   "cell_type": "markdown",
   "id": "788773fa",
   "metadata": {},
   "source": [
    "Scaling to a range is a good choice when both of the following conditions are met:\n",
    "• You know the approximate upper and lower bounds on your data with few or no outliers.\n",
    "• Your data is approximately uniformly distributed across that range.\n",
    "• A good example is age. Most age values falls between 0 and 90, and every part of the range has\n",
    "a substantial number of people"
   ]
  },
  {
   "cell_type": "code",
   "execution_count": 21,
   "id": "e5652985",
   "metadata": {
    "scrolled": true
   },
   "outputs": [
    {
     "name": "stdout",
     "output_type": "stream",
     "text": [
      "AGE_GROUP                                           17-25       25-35  \\\n",
      "CREDIT_TYPE                                                             \n",
      "Another type of loan                             0.000000    3.041096   \n",
      "Car loan                                         0.000000  161.938029   \n",
      "Cash loan (non-earmarked)                             NaN    0.000000   \n",
      "Consumer credit                                 36.568766   58.522717   \n",
      "Credit card                                     76.310137   69.031990   \n",
      "Interbank credit                                      NaN    0.000000   \n",
      "Loan for business development                   29.182500    0.000000   \n",
      "Loan for purchase of shares (margin lending)          NaN         NaN   \n",
      "Loan for the purchase of equipment                    NaN    0.000000   \n",
      "Loan for working capital replenishment        9806.625000    0.000000   \n",
      "Microloan                                      387.983766    0.586493   \n",
      "Mobile operator loan                                  NaN         NaN   \n",
      "Mortgage                                         0.000000   22.026354   \n",
      "Real estate loan                                      NaN    0.000000   \n",
      "Unknown type of loan                             0.000000    0.000000   \n",
      "\n",
      "AGE_GROUP                                          35-45        45-55  \\\n",
      "CREDIT_TYPE                                                             \n",
      "Another type of loan                            0.000000     0.000000   \n",
      "Car loan                                      188.070658    30.416609   \n",
      "Cash loan (non-earmarked)                       0.000000     0.000000   \n",
      "Consumer credit                                34.710618    28.257958   \n",
      "Credit card                                    84.884390     8.652819   \n",
      "Interbank credit                                     NaN          NaN   \n",
      "Loan for business development                   0.000000  2085.987879   \n",
      "Loan for purchase of shares (margin lending)    0.000000     0.000000   \n",
      "Loan for the purchase of equipment              0.000000     0.000000   \n",
      "Loan for working capital replenishment          0.000000     0.218447   \n",
      "Microloan                                      17.082893     8.495737   \n",
      "Mobile operator loan                            0.000000          NaN   \n",
      "Mortgage                                       56.989437    26.303264   \n",
      "Real estate loan                                0.000000     0.000000   \n",
      "Unknown type of loan                            0.000000     0.000000   \n",
      "\n",
      "AGE_GROUP                                         55-65       >65  \n",
      "CREDIT_TYPE                                                        \n",
      "Another type of loan                          58.372340  0.000000  \n",
      "Car loan                                       0.238149  2.345745  \n",
      "Cash loan (non-earmarked)                      0.000000       NaN  \n",
      "Consumer credit                               22.113839  7.257824  \n",
      "Credit card                                   15.539009  4.985769  \n",
      "Interbank credit                                    NaN       NaN  \n",
      "Loan for business development                  0.000000  0.000000  \n",
      "Loan for purchase of shares (margin lending)        NaN       NaN  \n",
      "Loan for the purchase of equipment             0.000000       NaN  \n",
      "Loan for working capital replenishment         0.000000  0.000000  \n",
      "Microloan                                     20.004248  0.000000  \n",
      "Mobile operator loan                                NaN       NaN  \n",
      "Mortgage                                      23.442434  0.128571  \n",
      "Real estate loan                               0.000000       NaN  \n",
      "Unknown type of loan                           0.000000  0.000000  \n"
     ]
    }
   ],
   "source": [
    "#create pivot table\n",
    "# AMT_CREDIT_SUM_OVERDUE: Current amount overdue on Credit Bureau credit\n",
    "result = pd.pivot_table(data=df_merged_data, index='CREDIT_TYPE',columns='AGE_GROUP',values='AMT_CREDIT_SUM_OVERDUE')\n",
    "print(result)\n"
   ]
  },
  {
   "cell_type": "code",
   "execution_count": 22,
   "id": "d5dd6d65",
   "metadata": {},
   "outputs": [
    {
     "data": {
      "image/png": "[encoded data removed]",
      "text/plain": [
       "<Figure size 432x288 with 2 Axes>"
      ]
     },
     "metadata": {
      "needs_background": "light"
     },
     "output_type": "display_data"
    }
   ],
   "source": [
    "sns.heatmap(result, annot=True, cmap = 'RdYlGn', center=0.117)\n",
    "plt.show()\n"
   ]
  },
  {
   "cell_type": "markdown",
   "id": "18c1147b",
   "metadata": {},
   "source": [
    "# Feature: Create Client CREDIT TO INCOME RATIO:"
   ]
  },
  {
   "cell_type": "code",
   "execution_count": 32,
   "id": "d3fc6f25",
   "metadata": {},
   "outputs": [],
   "source": [
    "# AMT_CREDIT: Credit amount of the loan\n",
    "# AMT_INCOME_TOTAL: Income of the client\n",
    "# # CREDIT TO INCOME RATIO:\n",
    "df_merged_data['INCOME_CREDIT_RATIO'] = df_merged_data['AMT_CREDIT']/  df_merged_data['AMT_INCOME_TOTAL']\n"
   ]
  },
  {
   "cell_type": "markdown",
   "id": "1b8e8b76",
   "metadata": {},
   "source": [
    "Feature: Client’s credit to income ratio\n",
    "Home Credit is a lending institution and credit analysis of the borrower is very important.  A credit to income ratio indicates how much Home Credit debt the borrower has outstanding as a percentage of their income. 'INCOME_CREDIT_RATIO' was created using AMT_CREDIT: Credit amount of the loan divided by  AMT_INCOME_TOTAL: Income of the client.\n"
   ]
  },
  {
   "cell_type": "markdown",
   "id": "e4526062",
   "metadata": {},
   "source": [
    "# Feature: Create BUREAU CREDIT TO INCOME RATIO:"
   ]
  },
  {
   "cell_type": "code",
   "execution_count": 35,
   "id": "c1209d4f",
   "metadata": {},
   "outputs": [],
   "source": [
    "# AMT_CREDIT_SUM: Current credit amount for the Credit Bureau credit\n",
    "# AMT_INCOME_TOTAL: Income of the client\n",
    "# # BUREAU CREDIT TO INCOME RATIO:\n",
    "df_merged_data['BUREAU_INCOME_CREDIT_RATIO'] = df_merged_data['AMT_CREDIT_SUM']/  df_merged_data['AMT_INCOME_TOTAL']\n"
   ]
  },
  {
   "cell_type": "markdown",
   "id": "70a7525e",
   "metadata": {},
   "source": [
    "Feature: Bureau credit to income ratio:\n",
    "The data from the credit bureau represents loans the client has outstanding with other   institutions and not from the Home Credit company. This ratio indicates how much outside  debt the borrower has outstanding as a percentage of their income. The main difference is this amount indicates loans taken out from other institutions. BUREAU_INCOME_CREDIT_RATIO was created as AMT_CREDIT_SUM (Current credit amount for the Credit Bureau credit) divided by AMT_INCOME_TOTAL (Income of the client)\n"
   ]
  },
  {
   "cell_type": "markdown",
   "id": "023a1ef2",
   "metadata": {},
   "source": [
    "# Feature: Average credit score based on External sources"
   ]
  },
  {
   "cell_type": "code",
   "execution_count": 50,
   "id": "be581915",
   "metadata": {},
   "outputs": [],
   "source": [
    "# New features based on External sources of clients credit score\n",
    "\n",
    "df_merged_data['EXT_SOURCES_WEIGHTED'] = (df_merged_data.EXT_SOURCE_2 + df_merged_data.EXT_SOURCE_3) / 2\n"
   ]
  },
  {
   "cell_type": "markdown",
   "id": "1b6e72c4",
   "metadata": {},
   "source": [
    "The dataset contains credit scores of the client form three outside sources. One source had more than 40% missing values and was dropped. Credit scores all range between 0.00 and 1.00.  An average of two remaining scores were included for testing and modelling purposes as EXT_SOURCES_WEIGHTED."
   ]
  }
 ],
 "metadata": {
  "kernelspec": {
   "display_name": "Python 3 (ipykernel)",
   "language": "python",
   "name": "python3"
  },
  "language_info": {
   "codemirror_mode": {
    "name": "ipython",
    "version": 3
   },
   "file_extension": ".py",
   "mimetype": "text/x-python",
   "name": "python",
   "nbconvert_exporter": "python",
   "pygments_lexer": "ipython3",
   "version": "3.9.7"
  }
 },
 "nbformat": 4,
 "nbformat_minor": 5
}
